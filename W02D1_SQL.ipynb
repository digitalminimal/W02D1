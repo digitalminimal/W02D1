{
 "cells": [
  {
   "cell_type": "markdown",
   "metadata": {
    "slideshow": {
     "slide_type": "slide"
    }
   },
   "source": [
    "## Lighthouse Labs\n",
    "### W02D1 SQL\n",
    "\n",
    "Instructor: Socorro Dominguez  \n",
    "September 20, 2021"
   ]
  },
  {
   "cell_type": "markdown",
   "metadata": {
    "slideshow": {
     "slide_type": "slide"
    }
   },
   "source": [
    "## Agenda\n",
    "1. Context and Landscape (40 mins)\n",
    "2. Break (10 mins)\n",
    "3. Writing SELECT statements (60 mins)\n",
    "    * Filtering, ordering, limiting, etc.\n",
    "    * Joining tables\n",
    "    * Grouping records\n",
    "    * Aggregate functions\n",
    "4. Exercise"
   ]
  },
  {
   "cell_type": "markdown",
   "metadata": {
    "slideshow": {
     "slide_type": "slide"
    }
   },
   "source": [
    "[Directory Link](https://downgit.github.io/#/home?url=https://github.com/sedv8808/LighthouseLabs/tree/main/W02D1)"
   ]
  },
  {
   "cell_type": "markdown",
   "metadata": {
    "slideshow": {
     "slide_type": "slide"
    }
   },
   "source": [
    "## Why databases?\n",
    "\n",
    "* Organized way to store data and relate data to each other.\n",
    "* Enforces strict structure and relationships (forces you to keep data clean)\n",
    "    - Makes it easier to train Machine Learning algorithms\n",
    "* Enables data governance (e.g., availability, usability, integrity and security of data)\n",
    "* Efficient retrieval of structured data\n",
    "* Can store lots of data\n",
    "\n",
    "_\"A company cannot be managed with Excel spreadsheets\"_"
   ]
  },
  {
   "cell_type": "markdown",
   "metadata": {
    "slideshow": {
     "slide_type": "slide"
    }
   },
   "source": [
    "## Why SQL?\n",
    "\n",
    "* A lot of data is still stored in SQL databases\n",
    "* Structured Query Language (SQL) still the most proficient tool to investigate, filter, slice and dice your data\n",
    "\n",
    "## NoSQL databases\n",
    "* There exists NoSQL databases (e.g., MongoDB, neo4j)\n",
    "* Want to learn more? https://www.mongodb.com/nosql-explained\n",
    "https://neo4j.com/"
   ]
  },
  {
   "cell_type": "markdown",
   "metadata": {
    "slideshow": {
     "slide_type": "slide"
    }
   },
   "source": [
    "### Why are we learning SQL?\n",
    "\n",
    "- Public dataset format has less common use-case.\n",
    "- Internal database querying\n",
    "    - May contain information you don’t want\n",
    "    - May want to train your model on combinations/aggregations of fields from various tables\n",
    "- Data exploration through simple operations on different groups/subsets\n",
    "- Better understand transformations on data\n",
    "- Mentioned in almost every data science job posting\n",
    "    - Data science jobs ask for a ton of skills, good to have exposure to all for interview purposes, even if they won’t all realistically be necessary"
   ]
  },
  {
   "cell_type": "markdown",
   "metadata": {
    "slideshow": {
     "slide_type": "slide"
    }
   },
   "source": [
    "### Challenges when writing SQL\n",
    "\n",
    "- Declarative (SQL) vs. imperative/algorithmic (Python). Basically, no control flow\n",
    "- Long, nested queries with many variable names\n",
    "    - Vs. imperative programming where most readable programs break logic up into multiple steps\n",
    "- Many things happening concurrently in a single statement, order not explicit\n",
    "    - Vs. imperative programming where code executes line-by-line\n",
    "- Debugging is more difficult due to the above\n",
    "    - Can help to break a complex query down into steps and test those out first. Incremental approach to writing the query\n",
    "    \n",
    "    \n",
    "To review the fundamentals: https://www.w3schools.com/sql/"
   ]
  },
  {
   "cell_type": "markdown",
   "metadata": {
    "slideshow": {
     "slide_type": "slide"
    }
   },
   "source": [
    "### Database schemas\n",
    "\n",
    "- How do the different tables relate to each other?\n",
    "- Arguably most difficult part of relational databases is designing the schema\n",
    "    - \"Less of a concern for data scientists — not our job!\"\n",
    "- For our purposes, useful to understand table structure of a database to know how to write our queries (e.g. what tables to join)\n",
    "- Common design principles\n",
    "    - Star schema\n",
    "    - Snowflake shema\n"
   ]
  },
  {
   "cell_type": "markdown",
   "metadata": {
    "slideshow": {
     "slide_type": "skip"
    }
   },
   "source": [
    "**Resources:**\n",
    "* https://www.guru99.com/star-snowflake-data-warehousing.html\n",
    "* https://en.wikipedia.org/wiki/Snowflake_schema\n",
    "* https://en.wikipedia.org/wiki/Star_schema"
   ]
  },
  {
   "cell_type": "markdown",
   "metadata": {
    "slideshow": {
     "slide_type": "slide"
    }
   },
   "source": [
    "### Star Schema\n",
    "\n",
    "<img src=\"star-schema.png\" width=300>\n",
    "\n",
    "* Every dimension represented by only one dimension table\n",
    "* Dimension table contains set of attributes\n",
    "* Dimension tables are joined to the fact table using a foreign key\n",
    "* Dimension tables **are not** joined to each other\n",
    "* Fact table contains key and measure"
   ]
  },
  {
   "cell_type": "markdown",
   "metadata": {
    "slideshow": {
     "slide_type": "slide"
    }
   },
   "source": [
    "### Snowflake Schema\n",
    "\n",
    "<img src=\"snowflake-schema.png\" width=700>\n",
    "\n",
    "* Extension of the star schema by adding extra dimensions\n",
    "* Dimension tables are created to protect the data and to make the database more flexible,eliminating redundancy and inconsistent dependency."
   ]
  },
  {
   "cell_type": "markdown",
   "metadata": {
    "slideshow": {
     "slide_type": "slide"
    }
   },
   "source": [
    "## Schema comparison\n",
    "\n",
    "**Star schema:**\n",
    "* Easy to understand\n",
    "* Dimension tables are not normalized - country ID does not have country lookup table\n",
    "* Widely supported by BI tools\n",
    "\n",
    "**Snowflake schema:**\n",
    "* Easy to implement and \"grow\"\n",
    "* Lower query performance with multiple tables\n",
    "* More difficult to maintain with more lookup tables\n"
   ]
  },
  {
   "cell_type": "markdown",
   "metadata": {
    "slideshow": {
     "slide_type": "slide"
    }
   },
   "source": [
    "## RDBMS Landscape\n",
    "\n",
    "\n",
    "<img src=\"rdbms.png\" width=400>\n",
    "\n",
    "* Relational Database Management System\n",
    "* Software system that enables users to define, create, maintain and control access to the database\n",
    "* Many, many, many vendors"
   ]
  },
  {
   "cell_type": "markdown",
   "metadata": {
    "slideshow": {
     "slide_type": "slide"
    }
   },
   "source": [
    "### RDBMS Vendors\n",
    "\n",
    "* **Closed source** (i.e., you have to pay)\n",
    "    * Vendors: Oracle, SQL Server (Microsoft), IBM DB2, Microsoft Access - local small databases\n",
    "    * Could come with integrations and services that make things easier  \n",
    "    \n",
    "<br>\n",
    "\n",
    "* **Open source** (i.e., free)\n",
    "    * MySQL, PostgreSQL, SQLite, MariaDB\n",
    "    * Good developer community makes these great options\n",
    "    * [This website](https://www.digitalocean.com/community/tutorials/sqlite-vs-mysql-vs-postgresql-a-comparison-of-relational-database-management-systems#:~:text=SQLite%20is%20a%20self%2Dcontained,even%20in%20low%2Dmemory%20environments.) offers a good comparison of open source systems options."
   ]
  },
  {
   "cell_type": "markdown",
   "metadata": {
    "slideshow": {
     "slide_type": "slide"
    }
   },
   "source": [
    "## Why SQLite?\n",
    "\n",
    "* Not directly comparable to client/server SQL database engines such as MySQL, Oracle, PostgreSQL, or SQL Server\n",
    "* Used as on-disk file format for desktop applications\n",
    "* Great to learn on to get a hang of SQL\n",
    "\n",
    "For more information: https://www.sqlite.org/whentouse.html"
   ]
  },
  {
   "cell_type": "markdown",
   "metadata": {
    "slideshow": {
     "slide_type": "slide"
    }
   },
   "source": [
    "## Why PostGres? \n",
    "\n",
    "* Created by scientists from the University of California at Berkeley\n",
    "* Open source nature makes it easy to upgrade or extend\n",
    "* High compliance to the SQL standard\n",
    "* Offers its users a huge (and growing) number of functions allowing programmers to create new applications, better protect data integrity, and developers build resilient and secure environments\n",
    "* Can easily run it on Windows, Mac OS X, and almost all Linux and Unix distributions\n",
    "* MySQL would be a good choice too\n",
    "* We use will use `psql`\n"
   ]
  },
  {
   "cell_type": "markdown",
   "metadata": {
    "slideshow": {
     "slide_type": "slide"
    }
   },
   "source": [
    "# Break (Or make sure you install Postgres)"
   ]
  },
  {
   "cell_type": "markdown",
   "metadata": {
    "slideshow": {
     "slide_type": "slide"
    }
   },
   "source": [
    "## Exercise"
   ]
  },
  {
   "cell_type": "markdown",
   "metadata": {
    "slideshow": {
     "slide_type": "fragment"
    }
   },
   "source": [
    "### Things we will be doing:\n",
    "- Creating a PostgreSQL database using the psql shell tool.\n",
    "- Importing existing data to fill the database (the drinks.sql file in this repository)\n",
    "- Using the psycopg2 Python package to interact with the database (we could have alternatively used a dedicated SQL IDE like SQL Workbench, PgAdmin)\n",
    "- Quering the database to explore SQL concepts such as:\n",
    "    - Filtering, ordering, limiting, etc.\n",
    "    - Joining tables\n",
    "    - Grouping records\n",
    "    - Aggregate functions\n"
   ]
  },
  {
   "cell_type": "markdown",
   "metadata": {
    "slideshow": {
     "slide_type": "slide"
    }
   },
   "source": [
    "## Make sure you've installed Postgres...\n",
    "\n",
    "1. Install PostGreSQL: https://www.postgresqltutorial.com/install-postgresql/\n",
    "* From your terminal: `conda install psycopg2`, `pip install psycopg2-binary`\n",
    "* Open a jupyter notebook and run `import psycopg2`to make sure it works \n"
   ]
  },
  {
   "cell_type": "markdown",
   "metadata": {
    "slideshow": {
     "slide_type": "slide"
    }
   },
   "source": [
    "#### Creating the database using psql\n",
    "1. Start up your terminal.\n",
    "2. Start the psql shell tool. \\ psql\n",
    "3. List the PostgreSQL databases that exist on your computer (press \"q\" when you want to exit the list view).  \n",
    "`\\l`\n",
    "4. Create a new empty database called \"drinks\".   \n",
    "`CREATE DATABASE drinks;`\n",
    "5. Confirm that the \"drinks\" database was created (press \"q\" when you want to exit the list view).   \n",
    "`\\l`"
   ]
  },
  {
   "cell_type": "markdown",
   "metadata": {
    "slideshow": {
     "slide_type": "slide"
    }
   },
   "source": [
    "To write to a database:\n",
    "\n",
    "(You will need the `drinks.sql` file in the same directory as this notebook)"
   ]
  },
  {
   "cell_type": "code",
   "execution_count": 2,
   "metadata": {
    "slideshow": {
     "slide_type": "slide"
    }
   },
   "outputs": [],
   "source": [
    "import psycopg2\n",
    "import config as cfg\n",
    "import pandas as pd\n",
    "\n",
    "postgres_pwd = cfg.postgres['password'] # This is the password you entered when you set up PGSQL\n",
    "\n",
    "con = psycopg2.connect(database='drinks', user='postgres', password=postgres_pwd,\n",
    "                       host='127.0.0.1', port='5432')  # This should work if you left everything as default\n",
    "\n",
    "cur = con.cursor()\n",
    "\n",
    "#THIS HAS BEEN RAN. The DATABASE is created as of sept 20.\n",
    "#cur.execute(open('drinks.sql', 'r').read())  # Uncomment this the first time you run the db"
   ]
  },
  {
   "cell_type": "markdown",
   "metadata": {
    "slideshow": {
     "slide_type": "slide"
    }
   },
   "source": [
    "## Demo & Tutorial\n",
    "* Show you how to query data from a database\n",
    "* Statements that start with `SELECT`"
   ]
  },
  {
   "cell_type": "markdown",
   "metadata": {
    "slideshow": {
     "slide_type": "slide"
    }
   },
   "source": [
    "## Intro to the sample database we're using - Drinks\n",
    "\n",
    "Database schema:\n",
    "\n",
    "* has_on_menu(<em><ins>bar</ins></em>: string,   <em><ins>drink_id</ins></em>: string, <em><ins>price</ins></em>: real)\n",
    "\n",
    "\n",
    "* orders(<em><ins>person</ins></em>: string, <em><ins>date</ins></em>: string, bar :string , <em><ins>drink_id</ins></em>: string, quantity: integer)\n",
    "\n",
    "\n",
    "* drink_info(<em><ins>drink_id</ins></em>: string, <em><ins>type</ins></em>: string)\n",
    "\n",
    "The `drink_info` relation specifies for each `drink_id` what type of drink it is, e.g., beer, wine, etc."
   ]
  },
  {
   "cell_type": "markdown",
   "metadata": {
    "slideshow": {
     "slide_type": "slide"
    }
   },
   "source": [
    "## Setting up the connection to our database via Python"
   ]
  },
  {
   "cell_type": "markdown",
   "metadata": {
    "slideshow": {
     "slide_type": "slide"
    }
   },
   "source": [
    "## Executing our first query\n",
    "\n",
    "Get the first 5 rows from orders"
   ]
  },
  {
   "cell_type": "markdown",
   "metadata": {},
   "source": [
    "For tomorrow’s lecture activity:\n",
    "1. Install PostGreSQL: https://www.postgresqltutorial.com/install-postgresql/. Make sure that you add an easy password that you can remember - DO NOT leave the password section empty. It allows you, but then you will have issues.\n",
    "2.  From your terminal: `conda install psycopg2`, `pip install psycopg2-binary`\n",
    "If you are on a mac, do `pip install psycopg2-binary`\n",
    "3. Check that the installations were completed properly: Open a jupyter notebook and run `import psycopg2` to make sure it works"
   ]
  },
  {
   "cell_type": "code",
   "execution_count": 3,
   "metadata": {
    "slideshow": {
     "slide_type": "slide"
    }
   },
   "outputs": [
    {
     "data": {
      "text/plain": [
       "[('person 1', '2016-10-16', 'bar 9', 'drink 4', 1),\n",
       " ('person 1', '2016-10-16', 'bar 9', 'drink 44', 1)]"
      ]
     },
     "execution_count": 3,
     "metadata": {},
     "output_type": "execute_result"
    }
   ],
   "source": [
    "# execute a simple query\n",
    "cur.execute(\n",
    "\"\"\"\n",
    "SELECT *\n",
    "FROM orders\n",
    "LIMIT 2;\n",
    "\"\"\")\n",
    "\n",
    "response = cur.fetchall()\n",
    "\n",
    "#for row in response:\n",
    "#    print(row)\n",
    "response"
   ]
  },
  {
   "cell_type": "code",
   "execution_count": 4,
   "metadata": {
    "slideshow": {
     "slide_type": "slide"
    }
   },
   "outputs": [
    {
     "data": {
      "text/plain": [
       "[('person 1', '2016-10-16', 'bar 9', 'drink 4', 1),\n",
       " ('person 1', '2016-10-16', 'bar 9', 'drink 44', 1)]"
      ]
     },
     "execution_count": 4,
     "metadata": {},
     "output_type": "execute_result"
    }
   ],
   "source": [
    "# raw response\n",
    "response"
   ]
  },
  {
   "cell_type": "markdown",
   "metadata": {
    "slideshow": {
     "slide_type": "fragment"
    }
   },
   "source": [
    "* orders(<em><ins>person</ins></em>: string, <em><ins>date</ins></em>: string,  <em><ins>bar</ins></em>: string, <em><ins>drink_id</ins></em>: string, quantity: integer)\n"
   ]
  },
  {
   "cell_type": "markdown",
   "metadata": {
    "slideshow": {
     "slide_type": "slide"
    }
   },
   "source": [
    "An easier way to see the data..."
   ]
  },
  {
   "cell_type": "code",
   "execution_count": 5,
   "metadata": {
    "scrolled": true,
    "slideshow": {
     "slide_type": "fragment"
    }
   },
   "outputs": [
    {
     "data": {
      "text/html": [
       "<div>\n",
       "<style scoped>\n",
       "    .dataframe tbody tr th:only-of-type {\n",
       "        vertical-align: middle;\n",
       "    }\n",
       "\n",
       "    .dataframe tbody tr th {\n",
       "        vertical-align: top;\n",
       "    }\n",
       "\n",
       "    .dataframe thead th {\n",
       "        text-align: right;\n",
       "    }\n",
       "</style>\n",
       "<table border=\"1\" class=\"dataframe\">\n",
       "  <thead>\n",
       "    <tr style=\"text-align: right;\">\n",
       "      <th></th>\n",
       "      <th>person</th>\n",
       "      <th>date</th>\n",
       "      <th>bar</th>\n",
       "      <th>drink_id</th>\n",
       "      <th>qty</th>\n",
       "    </tr>\n",
       "  </thead>\n",
       "  <tbody>\n",
       "    <tr>\n",
       "      <th>0</th>\n",
       "      <td>person 1</td>\n",
       "      <td>2016-10-16</td>\n",
       "      <td>bar 9</td>\n",
       "      <td>drink 4</td>\n",
       "      <td>1</td>\n",
       "    </tr>\n",
       "    <tr>\n",
       "      <th>1</th>\n",
       "      <td>person 1</td>\n",
       "      <td>2016-10-16</td>\n",
       "      <td>bar 9</td>\n",
       "      <td>drink 44</td>\n",
       "      <td>1</td>\n",
       "    </tr>\n",
       "  </tbody>\n",
       "</table>\n",
       "</div>"
      ],
      "text/plain": [
       "     person        date    bar  drink_id  qty\n",
       "0  person 1  2016-10-16  bar 9   drink 4    1\n",
       "1  person 1  2016-10-16  bar 9  drink 44    1"
      ]
     },
     "execution_count": 5,
     "metadata": {},
     "output_type": "execute_result"
    }
   ],
   "source": [
    "pd.DataFrame(response, columns = ['person', 'date', 'bar', 'drink_id', 'qty']) #You will learn this tomorrow"
   ]
  },
  {
   "cell_type": "code",
   "execution_count": 9,
   "metadata": {},
   "outputs": [
    {
     "data": {
      "text/html": [
       "<div>\n",
       "<style scoped>\n",
       "    .dataframe tbody tr th:only-of-type {\n",
       "        vertical-align: middle;\n",
       "    }\n",
       "\n",
       "    .dataframe tbody tr th {\n",
       "        vertical-align: top;\n",
       "    }\n",
       "\n",
       "    .dataframe thead th {\n",
       "        text-align: right;\n",
       "    }\n",
       "</style>\n",
       "<table border=\"1\" class=\"dataframe\">\n",
       "  <thead>\n",
       "    <tr style=\"text-align: right;\">\n",
       "      <th></th>\n",
       "      <th>person</th>\n",
       "      <th>date</th>\n",
       "      <th>bar</th>\n",
       "      <th>drink_id</th>\n",
       "      <th>quantity</th>\n",
       "    </tr>\n",
       "  </thead>\n",
       "  <tbody>\n",
       "    <tr>\n",
       "      <th>0</th>\n",
       "      <td>person 1</td>\n",
       "      <td>2016-10-16</td>\n",
       "      <td>bar 9</td>\n",
       "      <td>drink 4</td>\n",
       "      <td>1</td>\n",
       "    </tr>\n",
       "    <tr>\n",
       "      <th>1</th>\n",
       "      <td>person 1</td>\n",
       "      <td>2016-10-16</td>\n",
       "      <td>bar 9</td>\n",
       "      <td>drink 44</td>\n",
       "      <td>1</td>\n",
       "    </tr>\n",
       "    <tr>\n",
       "      <th>2</th>\n",
       "      <td>person 1</td>\n",
       "      <td>2016-10-22</td>\n",
       "      <td>bar 19</td>\n",
       "      <td>drink 1</td>\n",
       "      <td>4</td>\n",
       "    </tr>\n",
       "    <tr>\n",
       "      <th>3</th>\n",
       "      <td>person 1</td>\n",
       "      <td>2016-10-22</td>\n",
       "      <td>bar 19</td>\n",
       "      <td>drink 9</td>\n",
       "      <td>1</td>\n",
       "    </tr>\n",
       "    <tr>\n",
       "      <th>4</th>\n",
       "      <td>person 1</td>\n",
       "      <td>2016-10-22</td>\n",
       "      <td>bar 19</td>\n",
       "      <td>drink 42</td>\n",
       "      <td>2</td>\n",
       "    </tr>\n",
       "  </tbody>\n",
       "</table>\n",
       "</div>"
      ],
      "text/plain": [
       "     person        date     bar  drink_id  quantity\n",
       "0  person 1  2016-10-16   bar 9   drink 4         1\n",
       "1  person 1  2016-10-16   bar 9  drink 44         1\n",
       "2  person 1  2016-10-22  bar 19   drink 1         4\n",
       "3  person 1  2016-10-22  bar 19   drink 9         1\n",
       "4  person 1  2016-10-22  bar 19  drink 42         2"
      ]
     },
     "execution_count": 10,
     "metadata": {},
     "output_type": "execute_result"
    }
   ],
   "source": [
    "# Before doing anything else, let's create a function out\n",
    "# of the things we're doing above\n",
    "def execute_query(query_string, return_pandas=True):\n",
    "    if return_pandas:\n",
    "        response = pd.read_sql_query(query_string, con)\n",
    "    else:\n",
    "        cur.execute(query_string)\n",
    "        response = cur.fetchall()\n",
    "    return response\n",
    "\n",
    "\n",
    "# Let's try out our function to make sure it does\n",
    "# the same as what we have above\n",
    "query = \"\"\"\n",
    "SELECT *\n",
    "FROM orders\n",
    "LIMIT 5;\n",
    "\"\"\"\n",
    "execute_query(query,False)"
   ]
  },
  {
   "cell_type": "markdown",
   "metadata": {
    "slideshow": {
     "slide_type": "slide"
    }
   },
   "source": [
    "## Quick recap for SQL\n",
    "\n",
    "The basic format is\n",
    "<img src='select-statement.png' width=200>\n",
    "\n",
    "What would the following tell us with our database?\n",
    "```\n",
    "SELECT *\n",
    "FROM orders\n",
    "WHERE bar='bar 9'\n",
    "```\n",
    "\n",
    "---\n",
    "Reminder - our schemas:\n",
    "\n",
    "<img src='our-db.png' width=400 align='left'>"
   ]
  },
  {
   "cell_type": "code",
   "execution_count": 6,
   "metadata": {
    "slideshow": {
     "slide_type": "slide"
    }
   },
   "outputs": [
    {
     "data": {
      "text/html": [
       "<div>\n",
       "<style scoped>\n",
       "    .dataframe tbody tr th:only-of-type {\n",
       "        vertical-align: middle;\n",
       "    }\n",
       "\n",
       "    .dataframe tbody tr th {\n",
       "        vertical-align: top;\n",
       "    }\n",
       "\n",
       "    .dataframe thead th {\n",
       "        text-align: right;\n",
       "    }\n",
       "</style>\n",
       "<table border=\"1\" class=\"dataframe\">\n",
       "  <thead>\n",
       "    <tr style=\"text-align: right;\">\n",
       "      <th></th>\n",
       "      <th>person</th>\n",
       "      <th>date</th>\n",
       "      <th>bar</th>\n",
       "      <th>drink_id</th>\n",
       "      <th>quantity</th>\n",
       "    </tr>\n",
       "  </thead>\n",
       "  <tbody>\n",
       "    <tr>\n",
       "      <th>0</th>\n",
       "      <td>person 1</td>\n",
       "      <td>2016-10-16</td>\n",
       "      <td>bar 9</td>\n",
       "      <td>drink 4</td>\n",
       "      <td>1</td>\n",
       "    </tr>\n",
       "    <tr>\n",
       "      <th>1</th>\n",
       "      <td>person 1</td>\n",
       "      <td>2016-10-16</td>\n",
       "      <td>bar 9</td>\n",
       "      <td>drink 44</td>\n",
       "      <td>1</td>\n",
       "    </tr>\n",
       "    <tr>\n",
       "      <th>2</th>\n",
       "      <td>person 8</td>\n",
       "      <td>2016-10-10</td>\n",
       "      <td>bar 9</td>\n",
       "      <td>drink 4</td>\n",
       "      <td>1</td>\n",
       "    </tr>\n",
       "    <tr>\n",
       "      <th>3</th>\n",
       "      <td>person 8</td>\n",
       "      <td>2016-10-10</td>\n",
       "      <td>bar 9</td>\n",
       "      <td>drink 44</td>\n",
       "      <td>1</td>\n",
       "    </tr>\n",
       "    <tr>\n",
       "      <th>4</th>\n",
       "      <td>person 8</td>\n",
       "      <td>2016-10-10</td>\n",
       "      <td>bar 9</td>\n",
       "      <td>drink 34</td>\n",
       "      <td>1</td>\n",
       "    </tr>\n",
       "    <tr>\n",
       "      <th>...</th>\n",
       "      <td>...</td>\n",
       "      <td>...</td>\n",
       "      <td>...</td>\n",
       "      <td>...</td>\n",
       "      <td>...</td>\n",
       "    </tr>\n",
       "    <tr>\n",
       "      <th>59</th>\n",
       "      <td>person 92</td>\n",
       "      <td>2016-10-24</td>\n",
       "      <td>bar 9</td>\n",
       "      <td>drink 4</td>\n",
       "      <td>1</td>\n",
       "    </tr>\n",
       "    <tr>\n",
       "      <th>60</th>\n",
       "      <td>person 92</td>\n",
       "      <td>2016-10-24</td>\n",
       "      <td>bar 9</td>\n",
       "      <td>drink 34</td>\n",
       "      <td>1</td>\n",
       "    </tr>\n",
       "    <tr>\n",
       "      <th>61</th>\n",
       "      <td>person 94</td>\n",
       "      <td>2016-10-06</td>\n",
       "      <td>bar 9</td>\n",
       "      <td>drink 4</td>\n",
       "      <td>5</td>\n",
       "    </tr>\n",
       "    <tr>\n",
       "      <th>62</th>\n",
       "      <td>person 94</td>\n",
       "      <td>2016-10-06</td>\n",
       "      <td>bar 9</td>\n",
       "      <td>drink 44</td>\n",
       "      <td>4</td>\n",
       "    </tr>\n",
       "    <tr>\n",
       "      <th>63</th>\n",
       "      <td>person 94</td>\n",
       "      <td>2016-10-06</td>\n",
       "      <td>bar 9</td>\n",
       "      <td>drink 34</td>\n",
       "      <td>4</td>\n",
       "    </tr>\n",
       "  </tbody>\n",
       "</table>\n",
       "<p>64 rows × 5 columns</p>\n",
       "</div>"
      ],
      "text/plain": [
       "       person        date    bar  drink_id  quantity\n",
       "0    person 1  2016-10-16  bar 9   drink 4         1\n",
       "1    person 1  2016-10-16  bar 9  drink 44         1\n",
       "2    person 8  2016-10-10  bar 9   drink 4         1\n",
       "3    person 8  2016-10-10  bar 9  drink 44         1\n",
       "4    person 8  2016-10-10  bar 9  drink 34         1\n",
       "..        ...         ...    ...       ...       ...\n",
       "59  person 92  2016-10-24  bar 9   drink 4         1\n",
       "60  person 92  2016-10-24  bar 9  drink 34         1\n",
       "61  person 94  2016-10-06  bar 9   drink 4         5\n",
       "62  person 94  2016-10-06  bar 9  drink 44         4\n",
       "63  person 94  2016-10-06  bar 9  drink 34         4\n",
       "\n",
       "[64 rows x 5 columns]"
      ]
     },
     "execution_count": 6,
     "metadata": {},
     "output_type": "execute_result"
    }
   ],
   "source": [
    "query2 = \"\"\"\n",
    "SELECT *\n",
    "FROM orders\n",
    "WHERE bar = 'bar 9';\n",
    "\"\"\"\n",
    "\n",
    "execute_query(query2)"
   ]
  },
  {
   "cell_type": "code",
   "execution_count": 7,
   "metadata": {},
   "outputs": [],
   "source": [
    "data = execute_query(query2)"
   ]
  },
  {
   "cell_type": "code",
   "execution_count": 8,
   "metadata": {},
   "outputs": [
    {
     "data": {
      "text/plain": [
       "pandas.core.frame.DataFrame"
      ]
     },
     "execution_count": 8,
     "metadata": {},
     "output_type": "execute_result"
    }
   ],
   "source": [
    "type(data)"
   ]
  },
  {
   "cell_type": "code",
   "execution_count": 9,
   "metadata": {},
   "outputs": [
    {
     "data": {
      "text/html": [
       "<div>\n",
       "<style scoped>\n",
       "    .dataframe tbody tr th:only-of-type {\n",
       "        vertical-align: middle;\n",
       "    }\n",
       "\n",
       "    .dataframe tbody tr th {\n",
       "        vertical-align: top;\n",
       "    }\n",
       "\n",
       "    .dataframe thead th {\n",
       "        text-align: right;\n",
       "    }\n",
       "</style>\n",
       "<table border=\"1\" class=\"dataframe\">\n",
       "  <thead>\n",
       "    <tr style=\"text-align: right;\">\n",
       "      <th></th>\n",
       "      <th>person</th>\n",
       "      <th>date</th>\n",
       "      <th>bar</th>\n",
       "      <th>drink_id</th>\n",
       "      <th>quantity</th>\n",
       "    </tr>\n",
       "  </thead>\n",
       "  <tbody>\n",
       "    <tr>\n",
       "      <th>0</th>\n",
       "      <td>person 1</td>\n",
       "      <td>2016-10-16</td>\n",
       "      <td>bar 9</td>\n",
       "      <td>drink 4</td>\n",
       "      <td>1</td>\n",
       "    </tr>\n",
       "    <tr>\n",
       "      <th>1</th>\n",
       "      <td>person 1</td>\n",
       "      <td>2016-10-16</td>\n",
       "      <td>bar 9</td>\n",
       "      <td>drink 44</td>\n",
       "      <td>1</td>\n",
       "    </tr>\n",
       "    <tr>\n",
       "      <th>2</th>\n",
       "      <td>person 8</td>\n",
       "      <td>2016-10-10</td>\n",
       "      <td>bar 9</td>\n",
       "      <td>drink 4</td>\n",
       "      <td>1</td>\n",
       "    </tr>\n",
       "    <tr>\n",
       "      <th>3</th>\n",
       "      <td>person 8</td>\n",
       "      <td>2016-10-10</td>\n",
       "      <td>bar 9</td>\n",
       "      <td>drink 44</td>\n",
       "      <td>1</td>\n",
       "    </tr>\n",
       "    <tr>\n",
       "      <th>4</th>\n",
       "      <td>person 8</td>\n",
       "      <td>2016-10-10</td>\n",
       "      <td>bar 9</td>\n",
       "      <td>drink 34</td>\n",
       "      <td>1</td>\n",
       "    </tr>\n",
       "    <tr>\n",
       "      <th>...</th>\n",
       "      <td>...</td>\n",
       "      <td>...</td>\n",
       "      <td>...</td>\n",
       "      <td>...</td>\n",
       "      <td>...</td>\n",
       "    </tr>\n",
       "    <tr>\n",
       "      <th>59</th>\n",
       "      <td>person 92</td>\n",
       "      <td>2016-10-24</td>\n",
       "      <td>bar 9</td>\n",
       "      <td>drink 4</td>\n",
       "      <td>1</td>\n",
       "    </tr>\n",
       "    <tr>\n",
       "      <th>60</th>\n",
       "      <td>person 92</td>\n",
       "      <td>2016-10-24</td>\n",
       "      <td>bar 9</td>\n",
       "      <td>drink 34</td>\n",
       "      <td>1</td>\n",
       "    </tr>\n",
       "    <tr>\n",
       "      <th>61</th>\n",
       "      <td>person 94</td>\n",
       "      <td>2016-10-06</td>\n",
       "      <td>bar 9</td>\n",
       "      <td>drink 4</td>\n",
       "      <td>5</td>\n",
       "    </tr>\n",
       "    <tr>\n",
       "      <th>62</th>\n",
       "      <td>person 94</td>\n",
       "      <td>2016-10-06</td>\n",
       "      <td>bar 9</td>\n",
       "      <td>drink 44</td>\n",
       "      <td>4</td>\n",
       "    </tr>\n",
       "    <tr>\n",
       "      <th>63</th>\n",
       "      <td>person 94</td>\n",
       "      <td>2016-10-06</td>\n",
       "      <td>bar 9</td>\n",
       "      <td>drink 34</td>\n",
       "      <td>4</td>\n",
       "    </tr>\n",
       "  </tbody>\n",
       "</table>\n",
       "<p>64 rows × 5 columns</p>\n",
       "</div>"
      ],
      "text/plain": [
       "       person        date    bar  drink_id  quantity\n",
       "0    person 1  2016-10-16  bar 9   drink 4         1\n",
       "1    person 1  2016-10-16  bar 9  drink 44         1\n",
       "2    person 8  2016-10-10  bar 9   drink 4         1\n",
       "3    person 8  2016-10-10  bar 9  drink 44         1\n",
       "4    person 8  2016-10-10  bar 9  drink 34         1\n",
       "..        ...         ...    ...       ...       ...\n",
       "59  person 92  2016-10-24  bar 9   drink 4         1\n",
       "60  person 92  2016-10-24  bar 9  drink 34         1\n",
       "61  person 94  2016-10-06  bar 9   drink 4         5\n",
       "62  person 94  2016-10-06  bar 9  drink 44         4\n",
       "63  person 94  2016-10-06  bar 9  drink 34         4\n",
       "\n",
       "[64 rows x 5 columns]"
      ]
     },
     "execution_count": 9,
     "metadata": {},
     "output_type": "execute_result"
    }
   ],
   "source": [
    "data[data['bar'] == 'bar 9']"
   ]
  },
  {
   "cell_type": "markdown",
   "metadata": {
    "slideshow": {
     "slide_type": "slide"
    }
   },
   "source": [
    "## Other commands\n",
    "\n",
    "Use a cheat sheet!\n",
    "<img src='sql-cheat-sheet.png' width=700>"
   ]
  },
  {
   "cell_type": "markdown",
   "metadata": {
    "slideshow": {
     "slide_type": "slide"
    }
   },
   "source": [
    "## Joins\n",
    "\n",
    "- `(INNER) JOIN`: Returns records that have matching values in both tables\n",
    "- `LEFT (OUTER) JOIN`: Returns all records from the left table, and the matched records from the right table\n",
    "- `RIGHT (OUTER) JOIN`: Returns all records from the right table, and the matched records from the left table\n",
    "- `FULL (OUTER) JOIN`: Returns all records when there is a match in either left or right table\n",
    "\n",
    "<img src='joins.png'>"
   ]
  },
  {
   "cell_type": "markdown",
   "metadata": {
    "slideshow": {
     "slide_type": "slide"
    }
   },
   "source": [
    "### Aggregate Functions\n",
    "\n",
    "- SQL is excellent at aggregating data the way you might in a pivot table in Excel. \n",
    "- You will use aggregate functions all the time, so it's important to get comfortable with them. \n",
    "- You know the functions1 They are the same ones you will find in Excel or any other analytics program. \n",
    "- The most important functions are:\n",
    "\n",
    "    - `COUNT` counts how many rows are in a particular column.\n",
    "    - `SUM` adds together all the values in a particular column.\n",
    "    - `MIN` and MAX return the lowest and highest values in a particular column, respectively.\n",
    "    - `AVG` calculates the average of a group of selected values."
   ]
  },
  {
   "cell_type": "markdown",
   "metadata": {
    "slideshow": {
     "slide_type": "slide"
    }
   },
   "source": [
    "## Exercise in Groups\n",
    "\n",
    "### Remember collaboration is key."
   ]
  },
  {
   "cell_type": "markdown",
   "metadata": {
    "slideshow": {
     "slide_type": "slide"
    }
   },
   "source": [
    "## Let's work through some problems\n",
    "\n",
    "### Question 1:\n",
    "Get the bar name and average price of each bar\n",
    "\n",
    "What do you think? What table do we need? What calculation do we need?\n",
    "\n",
    "---\n",
    "Reminder - our database:\n",
    "\n",
    "<img src='our-db.png' width=400 align='left'>"
   ]
  },
  {
   "cell_type": "markdown",
   "metadata": {
    "slideshow": {
     "slide_type": "slide"
    }
   },
   "source": [
    "Get the bar name and average price of drinks at each bar.\n",
    "<table style=\"border: 5px; width: 100%\">\n",
    " <tr>\n",
    "    <td><b style=\"font-size:30px\">has_on_menu</b></td>\n",
    "    <td><b style=\"font-size:30px\">orders</b></td>\n",
    "    <td><b style=\"font-size:30px\">drink_info</b></td>\n",
    " </tr>\n",
    " <tr>\n",
    "    <td style=\"font-size:20px\"><b>drink_id</b>: string</td>\n",
    "    <td style=\"font-size:20px\"><b>drink_id</b>: string</td>\n",
    "    <td style=\"font-size:20px\"><b>drink_id</b>: string</td>\n",
    " </tr>\n",
    " <tr>\n",
    "    <td style=\"font-size:20px\"><b>bar</b>: string</td>\n",
    "    <td style=\"font-size:20px\"><b>bar</b>: string</td>\n",
    "    <td style=\"font-size:20px\"><b>type</b>: string</td>\n",
    " </tr>\n",
    " <tr>\n",
    "    <td style=\"font-size:20px\"><b>price</b>: real</td>\n",
    "    <td style=\"font-size:20px\"><b>person</b>: string</td>\n",
    "    <td style=\"font-size:20px\"></td>\n",
    " </tr>\n",
    " <tr>\n",
    "    <td style=\"font-size:20px\"></td>\n",
    "    <td style=\"font-size:20px\"><b>date</b>: string</td>\n",
    "    <td style=\"font-size:20px\"></td>\n",
    " </tr>\n",
    " <tr>\n",
    "    <td style=\"font-size:20px\"></td>\n",
    "    <td style=\"font-size:20px\"><b>quantity</b>: integer</td>\n",
    "    <td style=\"font-size:20px\"></td>\n",
    " </tr>\n",
    "</table>"
   ]
  },
  {
   "cell_type": "code",
   "execution_count": 10,
   "metadata": {},
   "outputs": [
    {
     "data": {
      "text/plain": [
       "'\\nquery= \"\"\"\\nSELECT * from .....\\n\"\"\"\\n\\nexecute_query(query)\\n'"
      ]
     },
     "execution_count": 10,
     "metadata": {},
     "output_type": "execute_result"
    }
   ],
   "source": [
    "'''\n",
    "query= \"\"\"\n",
    "SELECT * from .....\n",
    "\"\"\"\n",
    "\n",
    "execute_query(query)\n",
    "'''"
   ]
  },
  {
   "cell_type": "markdown",
   "metadata": {
    "slideshow": {
     "slide_type": "slide"
    }
   },
   "source": [
    "### Question 2:\n",
    "Get the bars with the top 5 average prices.\n",
    "\n",
    "What do you think? How can we adapt the code we did before?\n",
    "\n",
    "---\n",
    "Reminder - our database:\n",
    "\n",
    "<img src='our-db.png' width=400 align='left'>"
   ]
  },
  {
   "cell_type": "markdown",
   "metadata": {},
   "source": [
    "Get the bar name and average price of drinks at each bar.\n",
    "<table style=\"border: 5px; width: 100%\">\n",
    " <tr>\n",
    "    <td><b style=\"font-size:30px\">has_on_menu</b></td>\n",
    "    <td><b style=\"font-size:30px\">orders</b></td>\n",
    "    <td><b style=\"font-size:30px\">drink_info</b></td>\n",
    " </tr>\n",
    " <tr>\n",
    "    <td style=\"font-size:20px\"><b>drink_id</b>: string</td>\n",
    "    <td style=\"font-size:20px\"><b>drink_id</b>: string</td>\n",
    "    <td style=\"font-size:20px\"><b>drink_id</b>: string</td>\n",
    " </tr>\n",
    " <tr>\n",
    "    <td style=\"font-size:20px\"><b>bar</b>: string</td>\n",
    "    <td style=\"font-size:20px\"><b>bar</b>: string</td>\n",
    "    <td style=\"font-size:20px\"><b>type</b>: string</td>\n",
    " </tr>\n",
    " <tr>\n",
    "    <td style=\"font-size:20px\"><b>price</b>: real</td>\n",
    "    <td style=\"font-size:20px\"><b>person</b>: string</td>\n",
    "    <td style=\"font-size:20px\"></td>\n",
    " </tr>\n",
    " <tr>\n",
    "    <td style=\"font-size:20px\"></td>\n",
    "    <td style=\"font-size:20px\"><b>date</b>: string</td>\n",
    "    <td style=\"font-size:20px\"></td>\n",
    " </tr>\n",
    " <tr>\n",
    "    <td style=\"font-size:20px\"></td>\n",
    "    <td style=\"font-size:20px\"><b>quantity</b>: integer</td>\n",
    "    <td style=\"font-size:20px\"></td>\n",
    " </tr>\n",
    "</table>"
   ]
  },
  {
   "cell_type": "code",
   "execution_count": 11,
   "metadata": {
    "scrolled": true,
    "slideshow": {
     "slide_type": "subslide"
    }
   },
   "outputs": [
    {
     "data": {
      "text/plain": [
       "'\\nquery= \"\"\"\\n\"\"\"\\n\\nexecute_query(query)\\n'"
      ]
     },
     "execution_count": 11,
     "metadata": {},
     "output_type": "execute_result"
    }
   ],
   "source": [
    "'''\n",
    "query= \"\"\"\n",
    "\"\"\"\n",
    "\n",
    "execute_query(query)\n",
    "'''"
   ]
  },
  {
   "cell_type": "markdown",
   "metadata": {
    "slideshow": {
     "slide_type": "slide"
    }
   },
   "source": [
    "### Question 3:\n",
    "Which bar sells the cheapest drink? Which drink and what's the price?\n",
    "\n",
    "---\n",
    "Reminder - our database:\n",
    "\n",
    "<img src='our-db.png' width=400 align='left'>"
   ]
  },
  {
   "cell_type": "markdown",
   "metadata": {},
   "source": [
    "Get the bar name and average price of drinks at each bar.\n",
    "<table style=\"border: 5px; width: 100%\">\n",
    " <tr>\n",
    "    <td><b style=\"font-size:30px\">has_on_menu</b></td>\n",
    "    <td><b style=\"font-size:30px\">orders</b></td>\n",
    "    <td><b style=\"font-size:30px\">drink_info</b></td>\n",
    " </tr>\n",
    " <tr>\n",
    "    <td style=\"font-size:20px\"><b>drink_id</b>: string</td>\n",
    "    <td style=\"font-size:20px\"><b>drink_id</b>: string</td>\n",
    "    <td style=\"font-size:20px\"><b>drink_id</b>: string</td>\n",
    " </tr>\n",
    " <tr>\n",
    "    <td style=\"font-size:20px\"><b>bar</b>: string</td>\n",
    "    <td style=\"font-size:20px\"><b>bar</b>: string</td>\n",
    "    <td style=\"font-size:20px\"><b>type</b>: string</td>\n",
    " </tr>\n",
    " <tr>\n",
    "    <td style=\"font-size:20px\"><b>price</b>: real</td>\n",
    "    <td style=\"font-size:20px\"><b>person</b>: string</td>\n",
    "    <td style=\"font-size:20px\"></td>\n",
    " </tr>\n",
    " <tr>\n",
    "    <td style=\"font-size:20px\"></td>\n",
    "    <td style=\"font-size:20px\"><b>date</b>: string</td>\n",
    "    <td style=\"font-size:20px\"></td>\n",
    " </tr>\n",
    " <tr>\n",
    "    <td style=\"font-size:20px\"></td>\n",
    "    <td style=\"font-size:20px\"><b>quantity</b>: integer</td>\n",
    "    <td style=\"font-size:20px\"></td>\n",
    " </tr>\n",
    "</table>"
   ]
  },
  {
   "cell_type": "code",
   "execution_count": 24,
   "metadata": {
    "slideshow": {
     "slide_type": "subslide"
    }
   },
   "outputs": [
    {
     "data": {
      "text/html": [
       "<div>\n",
       "<style scoped>\n",
       "    .dataframe tbody tr th:only-of-type {\n",
       "        vertical-align: middle;\n",
       "    }\n",
       "\n",
       "    .dataframe tbody tr th {\n",
       "        vertical-align: top;\n",
       "    }\n",
       "\n",
       "    .dataframe thead th {\n",
       "        text-align: right;\n",
       "    }\n",
       "</style>\n",
       "<table border=\"1\" class=\"dataframe\">\n",
       "  <thead>\n",
       "    <tr style=\"text-align: right;\">\n",
       "      <th></th>\n",
       "      <th>bar</th>\n",
       "      <th>price</th>\n",
       "    </tr>\n",
       "  </thead>\n",
       "  <tbody>\n",
       "    <tr>\n",
       "      <th>0</th>\n",
       "      <td>bar 18</td>\n",
       "      <td>3.477886</td>\n",
       "    </tr>\n",
       "  </tbody>\n",
       "</table>\n",
       "</div>"
      ],
      "text/plain": [
       "      bar     price\n",
       "0  bar 18  3.477886"
      ]
     },
     "execution_count": 24,
     "metadata": {},
     "output_type": "execute_result"
    }
   ],
   "source": [
    "#4\n",
    "query= \"\"\"\n",
    "select bar,price\n",
    "from has_on_menu\n",
    "where price in ( select min(price) from has_on_menu )\n",
    "\"\"\"\n",
    "\n",
    "execute_query(query)"
   ]
  },
  {
   "cell_type": "markdown",
   "metadata": {
    "slideshow": {
     "slide_type": "slide"
    }
   },
   "source": [
    "### Question 4:\n",
    "What is the number of beers sold by each bar?\n",
    "\n",
    "(If you interpret it to be \"sold\" as in available for sale, then you need `has_on_menu`; if you interpret \"sold\" as in a sale was made, then you need `orders`)\n",
    "\n",
    "Hint: you need two tables here\n",
    "\n",
    "---\n",
    "Reminder - our database:\n",
    "\n",
    "<img src='our-db.png' width=400 align='left'>"
   ]
  },
  {
   "cell_type": "markdown",
   "metadata": {},
   "source": [
    "Get the bar name and average price of drinks at each bar.\n",
    "<table style=\"border: 5px; width: 100%\">\n",
    " <tr>\n",
    "    <td><b style=\"font-size:30px\">has_on_menu</b></td>\n",
    "    <td><b style=\"font-size:30px\">orders</b></td>\n",
    "    <td><b style=\"font-size:30px\">drink_info</b></td>\n",
    " </tr>\n",
    " <tr>\n",
    "    <td style=\"font-size:20px\"><b>drink_id</b>: string</td>\n",
    "    <td style=\"font-size:20px\"><b>drink_id</b>: string</td>\n",
    "    <td style=\"font-size:20px\"><b>drink_id</b>: string</td>\n",
    " </tr>\n",
    " <tr>\n",
    "    <td style=\"font-size:20px\"><b>bar</b>: string</td>\n",
    "    <td style=\"font-size:20px\"><b>bar</b>: string</td>\n",
    "    <td style=\"font-size:20px\"><b>type</b>: string</td>\n",
    " </tr>\n",
    " <tr>\n",
    "    <td style=\"font-size:20px\"><b>price</b>: real</td>\n",
    "    <td style=\"font-size:20px\"><b>person</b>: string</td>\n",
    "    <td style=\"font-size:20px\"></td>\n",
    " </tr>\n",
    " <tr>\n",
    "    <td style=\"font-size:20px\"></td>\n",
    "    <td style=\"font-size:20px\"><b>date</b>: string</td>\n",
    "    <td style=\"font-size:20px\"></td>\n",
    " </tr>\n",
    " <tr>\n",
    "    <td style=\"font-size:20px\"></td>\n",
    "    <td style=\"font-size:20px\"><b>quantity</b>: integer</td>\n",
    "    <td style=\"font-size:20px\"></td>\n",
    " </tr>\n",
    "</table>"
   ]
  },
  {
   "cell_type": "code",
   "execution_count": 35,
   "metadata": {},
   "outputs": [
    {
     "data": {
      "text/html": [
       "<div>\n",
       "<style scoped>\n",
       "    .dataframe tbody tr th:only-of-type {\n",
       "        vertical-align: middle;\n",
       "    }\n",
       "\n",
       "    .dataframe tbody tr th {\n",
       "        vertical-align: top;\n",
       "    }\n",
       "\n",
       "    .dataframe thead th {\n",
       "        text-align: right;\n",
       "    }\n",
       "</style>\n",
       "<table border=\"1\" class=\"dataframe\">\n",
       "  <thead>\n",
       "    <tr style=\"text-align: right;\">\n",
       "      <th></th>\n",
       "      <th>bar</th>\n",
       "      <th>sum</th>\n",
       "    </tr>\n",
       "  </thead>\n",
       "  <tbody>\n",
       "    <tr>\n",
       "      <th>0</th>\n",
       "      <td>bar 10</td>\n",
       "      <td>66</td>\n",
       "    </tr>\n",
       "    <tr>\n",
       "      <th>1</th>\n",
       "      <td>bar 11</td>\n",
       "      <td>80</td>\n",
       "    </tr>\n",
       "    <tr>\n",
       "      <th>2</th>\n",
       "      <td>bar 17</td>\n",
       "      <td>36</td>\n",
       "    </tr>\n",
       "    <tr>\n",
       "      <th>3</th>\n",
       "      <td>bar 2</td>\n",
       "      <td>79</td>\n",
       "    </tr>\n",
       "    <tr>\n",
       "      <th>4</th>\n",
       "      <td>bar 20</td>\n",
       "      <td>176</td>\n",
       "    </tr>\n",
       "    <tr>\n",
       "      <th>5</th>\n",
       "      <td>bar 3</td>\n",
       "      <td>108</td>\n",
       "    </tr>\n",
       "    <tr>\n",
       "      <th>6</th>\n",
       "      <td>bar 5</td>\n",
       "      <td>111</td>\n",
       "    </tr>\n",
       "  </tbody>\n",
       "</table>\n",
       "</div>"
      ],
      "text/plain": [
       "      bar  sum\n",
       "0  bar 10   66\n",
       "1  bar 11   80\n",
       "2  bar 17   36\n",
       "3   bar 2   79\n",
       "4  bar 20  176\n",
       "5   bar 3  108\n",
       "6   bar 5  111"
      ]
     },
     "execution_count": 35,
     "metadata": {},
     "output_type": "execute_result"
    }
   ],
   "source": [
    "# Question 4:\n",
    "\n",
    "# What is the number of beers sold by each bar?\n",
    "\n",
    "# (If you interpret it to be \"sold\" as in available for sale, then you need has_on_menu; if you interpret \"sold\" as in a sale was made, then you need orders)\n",
    "\n",
    "# Hint: you need two tables here\n",
    "#bar\n",
    "\n",
    "\n",
    "query= \"\"\"select bar, sum(quantity) \n",
    "from orders \n",
    "inner join drink_info \n",
    "on orders.drink_id=drink_info.drink_id \n",
    "where drink_info.type = 'beer' \n",
    "group by bar\n",
    "order by bar ASC\n",
    "\"\"\"\n",
    "\n",
    "execute_query(query)\n"
   ]
  },
  {
   "cell_type": "markdown",
   "metadata": {
    "slideshow": {
     "slide_type": "slide"
    }
   },
   "source": [
    "### Challenge question\n",
    "\n",
    "For each person, find the bar they visit, and the type(s) and price(s) of the drink(s) they drink during those visits.\n",
    "\n",
    "---\n",
    "Reminder - our database:\n",
    "\n",
    "<img src='our-db.png' width=400 align='left'>"
   ]
  },
  {
   "cell_type": "markdown",
   "metadata": {},
   "source": [
    "Get the bar name and average price of drinks at each bar.\n",
    "<table style=\"border: 5px; width: 100%\">\n",
    " <tr>\n",
    "    <td><b style=\"font-size:30px\">has_on_menu</b></td>\n",
    "    <td><b style=\"font-size:30px\">orders</b></td>\n",
    "    <td><b style=\"font-size:30px\">drink_info</b></td>\n",
    " </tr>\n",
    " <tr>\n",
    "    <td style=\"font-size:20px\"><b>drink_id</b>: string</td>\n",
    "    <td style=\"font-size:20px\"><b>drink_id</b>: string</td>\n",
    "    <td style=\"font-size:20px\"><b>drink_id</b>: string</td>\n",
    " </tr>\n",
    " <tr>\n",
    "    <td style=\"font-size:20px\"><b>bar</b>: string</td>\n",
    "    <td style=\"font-size:20px\"><b>bar</b>: string</td>\n",
    "    <td style=\"font-size:20px\"><b>type</b>: string</td>\n",
    " </tr>\n",
    " <tr>\n",
    "    <td style=\"font-size:20px\"><b>price</b>: real</td>\n",
    "    <td style=\"font-size:20px\"><b>person</b>: string</td>\n",
    "    <td style=\"font-size:20px\"></td>\n",
    " </tr>\n",
    " <tr>\n",
    "    <td style=\"font-size:20px\"></td>\n",
    "    <td style=\"font-size:20px\"><b>date</b>: string</td>\n",
    "    <td style=\"font-size:20px\"></td>\n",
    " </tr>\n",
    " <tr>\n",
    "    <td style=\"font-size:20px\"></td>\n",
    "    <td style=\"font-size:20px\"><b>quantity</b>: integer</td>\n",
    "    <td style=\"font-size:20px\"></td>\n",
    " </tr>\n",
    "</table>"
   ]
  },
  {
   "cell_type": "code",
   "execution_count": 59,
   "metadata": {
    "slideshow": {
     "slide_type": "subslide"
    }
   },
   "outputs": [
    {
     "data": {
      "text/html": [
       "<div>\n",
       "<style scoped>\n",
       "    .dataframe tbody tr th:only-of-type {\n",
       "        vertical-align: middle;\n",
       "    }\n",
       "\n",
       "    .dataframe tbody tr th {\n",
       "        vertical-align: top;\n",
       "    }\n",
       "\n",
       "    .dataframe thead th {\n",
       "        text-align: right;\n",
       "    }\n",
       "</style>\n",
       "<table border=\"1\" class=\"dataframe\">\n",
       "  <thead>\n",
       "    <tr style=\"text-align: right;\">\n",
       "      <th></th>\n",
       "      <th>person</th>\n",
       "      <th>bar</th>\n",
       "      <th>type</th>\n",
       "      <th>drink_id</th>\n",
       "      <th>price</th>\n",
       "      <th>date</th>\n",
       "    </tr>\n",
       "  </thead>\n",
       "  <tbody>\n",
       "    <tr>\n",
       "      <th>0</th>\n",
       "      <td>person 1</td>\n",
       "      <td>bar 14</td>\n",
       "      <td>wine</td>\n",
       "      <td>drink 37</td>\n",
       "      <td>304.054170</td>\n",
       "      <td>2016-10-05</td>\n",
       "    </tr>\n",
       "    <tr>\n",
       "      <th>1</th>\n",
       "      <td>person 1</td>\n",
       "      <td>bar 14</td>\n",
       "      <td>wine</td>\n",
       "      <td>drink 6</td>\n",
       "      <td>6.283809</td>\n",
       "      <td>2016-10-05</td>\n",
       "    </tr>\n",
       "    <tr>\n",
       "      <th>2</th>\n",
       "      <td>person 1</td>\n",
       "      <td>bar 18</td>\n",
       "      <td>soda</td>\n",
       "      <td>drink 43</td>\n",
       "      <td>3.477886</td>\n",
       "      <td>2016-10-01</td>\n",
       "    </tr>\n",
       "    <tr>\n",
       "      <th>3</th>\n",
       "      <td>person 1</td>\n",
       "      <td>bar 19</td>\n",
       "      <td>cocktail</td>\n",
       "      <td>drink 1</td>\n",
       "      <td>11.775652</td>\n",
       "      <td>2016-10-22</td>\n",
       "    </tr>\n",
       "    <tr>\n",
       "      <th>4</th>\n",
       "      <td>person 1</td>\n",
       "      <td>bar 19</td>\n",
       "      <td>whisky</td>\n",
       "      <td>drink 42</td>\n",
       "      <td>34.507183</td>\n",
       "      <td>2016-10-22</td>\n",
       "    </tr>\n",
       "    <tr>\n",
       "      <th>...</th>\n",
       "      <td>...</td>\n",
       "      <td>...</td>\n",
       "      <td>...</td>\n",
       "      <td>...</td>\n",
       "      <td>...</td>\n",
       "      <td>...</td>\n",
       "    </tr>\n",
       "    <tr>\n",
       "      <th>1605</th>\n",
       "      <td>person 98</td>\n",
       "      <td>bar 7</td>\n",
       "      <td>vodka</td>\n",
       "      <td>drink 15</td>\n",
       "      <td>47.559166</td>\n",
       "      <td>2016-10-02</td>\n",
       "    </tr>\n",
       "    <tr>\n",
       "      <th>1606</th>\n",
       "      <td>person 98</td>\n",
       "      <td>bar 7</td>\n",
       "      <td>whisky</td>\n",
       "      <td>drink 28</td>\n",
       "      <td>91.364480</td>\n",
       "      <td>2016-10-02</td>\n",
       "    </tr>\n",
       "    <tr>\n",
       "      <th>1607</th>\n",
       "      <td>person 99</td>\n",
       "      <td>bar 11</td>\n",
       "      <td>beer</td>\n",
       "      <td>drink 38</td>\n",
       "      <td>6.242310</td>\n",
       "      <td>2016-10-06</td>\n",
       "    </tr>\n",
       "    <tr>\n",
       "      <th>1608</th>\n",
       "      <td>person 99</td>\n",
       "      <td>bar 11</td>\n",
       "      <td>whisky</td>\n",
       "      <td>drink 42</td>\n",
       "      <td>46.720566</td>\n",
       "      <td>2016-10-06</td>\n",
       "    </tr>\n",
       "    <tr>\n",
       "      <th>1609</th>\n",
       "      <td>person 99</td>\n",
       "      <td>bar 19</td>\n",
       "      <td>whisky</td>\n",
       "      <td>drink 42</td>\n",
       "      <td>34.507183</td>\n",
       "      <td>2016-10-05</td>\n",
       "    </tr>\n",
       "  </tbody>\n",
       "</table>\n",
       "<p>1610 rows × 6 columns</p>\n",
       "</div>"
      ],
      "text/plain": [
       "         person     bar      type  drink_id       price        date\n",
       "0      person 1  bar 14      wine  drink 37  304.054170  2016-10-05\n",
       "1      person 1  bar 14      wine   drink 6    6.283809  2016-10-05\n",
       "2      person 1  bar 18      soda  drink 43    3.477886  2016-10-01\n",
       "3      person 1  bar 19  cocktail   drink 1   11.775652  2016-10-22\n",
       "4      person 1  bar 19    whisky  drink 42   34.507183  2016-10-22\n",
       "...         ...     ...       ...       ...         ...         ...\n",
       "1605  person 98   bar 7     vodka  drink 15   47.559166  2016-10-02\n",
       "1606  person 98   bar 7    whisky  drink 28   91.364480  2016-10-02\n",
       "1607  person 99  bar 11      beer  drink 38    6.242310  2016-10-06\n",
       "1608  person 99  bar 11    whisky  drink 42   46.720566  2016-10-06\n",
       "1609  person 99  bar 19    whisky  drink 42   34.507183  2016-10-05\n",
       "\n",
       "[1610 rows x 6 columns]"
      ]
     },
     "execution_count": 59,
     "metadata": {},
     "output_type": "execute_result"
    }
   ],
   "source": [
    "# Challenge question\n",
    "\n",
    "# For each person, find the bar they visit, \n",
    "# and the type(s) and price(s) of the drink(s) they drink during those visits.\n",
    "# person, date, bar, type , price, drinks\n",
    "\n",
    "\n",
    "query= \"\"\" select orders.person,orders.bar,drink_info.type,drink_info.drink_id, has_on_menu.price,orders.date\n",
    "from orders\n",
    "inner join has_on_menu on orders.drink_id=has_on_menu.drink_id and orders.bar = has_on_menu.bar\n",
    "inner join drink_info on drink_info.drink_id=orders.drink_id\n",
    "group by orders.person,orders.bar,orders.date,drink_info.type,drink_info.drink_id,has_on_menu.price\n",
    "order by orders.person \n",
    "\"\"\"\n",
    "\n",
    "\n",
    "execute_query(query,True)\n"
   ]
  },
  {
   "cell_type": "markdown",
   "metadata": {
    "slideshow": {
     "slide_type": "slide"
    }
   },
   "source": [
    "### Making sure we close off the connection"
   ]
  },
  {
   "cell_type": "code",
   "execution_count": 60,
   "metadata": {
    "slideshow": {
     "slide_type": "-"
    }
   },
   "outputs": [],
   "source": [
    "cur.close()"
   ]
  },
  {
   "cell_type": "markdown",
   "metadata": {
    "slideshow": {
     "slide_type": "slide"
    }
   },
   "source": [
    "## Additional resoures\n",
    "\n",
    "* [Mode Tutorial](https://mode.com/sql-tutorial/)"
   ]
  },
  {
   "cell_type": "code",
   "execution_count": null,
   "metadata": {},
   "outputs": [],
   "source": []
  }
 ],
 "metadata": {
  "celltoolbar": "Slideshow",
  "kernelspec": {
   "display_name": "Python 3 (ipykernel)",
   "language": "python",
   "name": "python3"
  },
  "language_info": {
   "codemirror_mode": {
    "name": "ipython",
    "version": 3
   },
   "file_extension": ".py",
   "mimetype": "text/x-python",
   "name": "python",
   "nbconvert_exporter": "python",
   "pygments_lexer": "ipython3",
   "version": "3.9.6"
  }
 },
 "nbformat": 4,
 "nbformat_minor": 4
}
